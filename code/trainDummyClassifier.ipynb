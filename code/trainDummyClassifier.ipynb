{
 "cells": [
  {
   "cell_type": "code",
   "execution_count": 15,
   "metadata": {},
   "outputs": [],
   "source": [
    "import pandas as pd\n",
    "import numpy as np\n",
    "import pickle\n",
    "import os, time\n",
    "from sklearn.dummy import DummyClassifier\n",
    "from sklearn.metrics import accuracy_score, f1_score\n",
    "from sklearn.model_selection import train_test_split"
   ]
  },
  {
   "cell_type": "code",
   "execution_count": 16,
   "metadata": {},
   "outputs": [
    {
     "name": "stdout",
     "output_type": "stream",
     "text": [
      "Reading:  Friday-WorkingHours-Afternoon-PortScan.pcap_ISCX_Relabeled.csv\n",
      "Reading:  Friday-WorkingHours-Morning.pcap_ISCX_Relabeled.csv\n",
      "Reading:  Wednesday-workingHours.pcap_ISCX_Relabeled.csv\n",
      "Reading:  Thursday-WorkingHours-Morning-WebAttacks.pcap_ISCX_Relabeled.csv\n",
      "Reading:  Monday-WorkingHours.pcap_ISCX_Relabeled.csv\n",
      "Reading:  Friday-WorkingHours-Afternoon-DDos.pcap_ISCX_Relabeled.csv\n",
      "Reading:  Tuesday-WorkingHours.pcap_ISCX_Relabeled.csv\n",
      "Reading:  Thursday-WorkingHours-Afternoon-Infilteration.pcap_ISCX_Relabeled.csv\n",
      "Reading:  CTU13_Normal_Traffic_Relabeled.csv\n",
      "Reading:  CTU13_Attack_Traffic_Relabeled.csv\n"
     ]
    }
   ],
   "source": [
    "# Reading CSV files, and merging all of them into a single DataFrame\n",
    "CISIDS2017_folder = \"/home/grassfed37/6CCS3PRJ/dummy-ML_NIDS/CICIDS2017ML\"\n",
    "CTU13_folder = \"/home/grassfed37/6CCS3PRJ/dummy-ML_NIDS/CTU13ML\"\n",
    "\n",
    "CICIDS2017_df_list = []\n",
    "CTU13_df_list = []\n",
    "\n",
    "# Reading CICIDS2017 CSV files into a single DataFrame\n",
    "for f in os.listdir(CISIDS2017_folder):\n",
    "    file_path = os.path.join(CISIDS2017_folder, f)\n",
    "    if os.path.isfile(file_path):\n",
    "        print(\"Reading: \", f)\n",
    "        CICIDS2017_df_list.append(pd.read_csv(file_path))\n",
    "\n",
    "# Reading CTU13 CSV files into a single DataFrame\n",
    "for f in os.listdir(CTU13_folder):\n",
    "    file_path = os.path.join(CTU13_folder, f)\n",
    "    if os.path.isfile(file_path):\n",
    "        print(\"Reading: \", f)\n",
    "        CTU13_df_list.append(pd.read_csv(file_path))\n",
    "\n",
    "CICIDS2017_df, CTU13_df = pd.concat(CICIDS2017_df_list, ignore_index=True), pd.concat(CTU13_df_list, ignore_index=True)"
   ]
  },
  {
   "cell_type": "code",
   "execution_count": 17,
   "metadata": {},
   "outputs": [
    {
     "name": "stdout",
     "output_type": "stream",
     "text": [
      "Columns with problematic values:  [' Flow Packets/s']\n",
      "Columns with problematic values:  []\n"
     ]
    }
   ],
   "source": [
    "# QUICK PREPROCESSING. \n",
    "# Some classifiers do not like \"infinite\" (inf) or \"null\" (NaN) values.\n",
    "CICIDS2017_df.replace([np.inf, -np.inf], np.nan, inplace=True)\n",
    "print(\"Columns with problematic values: \", list(CICIDS2017_df.columns[CICIDS2017_df.isna().any()]))\n",
    "CICIDS2017_df.dropna(inplace=True)\n",
    "\n",
    "CTU13_df.replace([np.inf, -np.inf], np.nan, inplace=True)\n",
    "print(\"Columns with problematic values: \", list(CTU13_df.columns[CTU13_df.isna().any()]))\n",
    "CTU13_df.dropna(inplace=True)"
   ]
  },
  {
   "cell_type": "code",
   "execution_count": 18,
   "metadata": {},
   "outputs": [
    {
     "data": {
      "text/plain": [
       "array(['BENIGN', 'PortScan', 'Bot', 'DoS slowloris', 'DoS Slowhttptest',\n",
       "       'DoS Hulk', 'DoS GoldenEye', 'Heartbleed',\n",
       "       'Web Attack � Brute Force', 'Web Attack � XSS',\n",
       "       'Web Attack � Sql Injection', 'DDoS', 'FTP-Patator', 'SSH-Patator',\n",
       "       'Infiltration'], dtype=object)"
      ]
     },
     "execution_count": 18,
     "metadata": {},
     "output_type": "execute_result"
    }
   ],
   "source": [
    "CICIDS2017_df[' Label'].unique()"
   ]
  },
  {
   "cell_type": "code",
   "execution_count": 19,
   "metadata": {},
   "outputs": [
    {
     "data": {
      "text/plain": [
       "array(['BENIGN', 'Bot'], dtype=object)"
      ]
     },
     "execution_count": 19,
     "metadata": {},
     "output_type": "execute_result"
    }
   ],
   "source": [
    "CTU13_df[' Label'].unique()"
   ]
  },
  {
   "cell_type": "code",
   "execution_count": 20,
   "metadata": {},
   "outputs": [],
   "source": [
    "# Create a new column that unifies all malicious classes into a single class for binary classification\n",
    "CICIDS2017_df['GT'] = np.where(CICIDS2017_df[' Label']=='BENIGN', 'Benign', 'Malicious')\n",
    "CTU13_df['GT'] = np.where(CTU13_df[' Label']=='BENIGN', 'Benign', 'Malicious')"
   ]
  },
  {
   "cell_type": "code",
   "execution_count": 21,
   "metadata": {},
   "outputs": [],
   "source": [
    "features = pd.Index([\n",
    "    ' Flow Duration',\n",
    "    ' Total Fwd Packets',\n",
    "    ' Total Backward Packets',\n",
    "    ' Total Length of Bwd Packets',\n",
    "    ' Fwd Packet Length Max', \n",
    "    ' Fwd Packet Length Min',\n",
    "    ' Fwd Packet Length Mean',\n",
    "    ' Fwd Packet Length Std',\n",
    "    ' Bwd Packet Length Min',\n",
    "    ' Bwd Packet Length Mean',\n",
    "    ' Bwd Packet Length Std',\n",
    "    ' Flow Packets/s',\n",
    "    ' Flow IAT Mean',\n",
    "    ' Flow IAT Std',\n",
    "    ' Flow IAT Max',  \n",
    "    ' Flow IAT Min',\n",
    "    ' Fwd IAT Mean',\n",
    "    ' Fwd IAT Std',\n",
    "    ' Fwd IAT Max',\n",
    "    ' Fwd IAT Min',\n",
    "    ' Bwd IAT Mean',\n",
    "    ' Bwd IAT Std',\n",
    "    ' Bwd IAT Max',\n",
    "    ' Bwd IAT Min',\n",
    "    ' Bwd PSH Flags',\n",
    "    ' Fwd Header Length',\n",
    "    ' Bwd Header Length',\n",
    "    ' Bwd Packets/s',\n",
    "    ' Min Packet Length',\n",
    "    ' Max Packet Length',\n",
    "    ' Packet Length Mean',\n",
    "    ' Packet Length Std', \n",
    "    ' Packet Length Variance',\n",
    "    ' SYN Flag Count',\n",
    "    ' RST Flag Count',\n",
    "    ' ACK Flag Count',\n",
    "    ' Down/Up Ratio',\n",
    "    ' Average Packet Size', \n",
    "    ' Avg Fwd Segment Size',\n",
    "    ' Avg Bwd Segment Size',\n",
    "    ' Init_Win_bytes_backward',\n",
    "    ' act_data_pkt_fwd',\n",
    "    ' Active Std',\n",
    "    ' Active Max',\n",
    "    ' Active Min', \n",
    "    ' Idle Std',\n",
    "    ' Idle Max',\n",
    "    ' Idle Min' \n",
    "])"
   ]
  },
  {
   "cell_type": "code",
   "execution_count": 22,
   "metadata": {},
   "outputs": [
    {
     "name": "stdout",
     "output_type": "stream",
     "text": [
      "Training time (CTU13 Binary):  0.07322359085083008\n"
     ]
    }
   ],
   "source": [
    "# Train test splits for both datasets\n",
    "train_ctu13, test_ctu13 = train_test_split(CTU13_df, test_size=0.4, stratify=CTU13_df['GT'])\n",
    "train_cicids, test_cicids = train_test_split(CICIDS2017_df, test_size=0.4, stratify=CICIDS2017_df['GT'])\n",
    "\n",
    "# Train a binary Dummy Classifier model on CTU13 dataset\n",
    "start = time.time()\n",
    "dummy_bin_ctu13 = DummyClassifier(strategy='stratified')\n",
    "dummy_bin_ctu13.fit(train_ctu13[features], train_ctu13['GT'])\n",
    "end = time.time() - start\n",
    "print(\"Training time (CTU13 Binary): \", end)\n",
    "\n",
    "# Save the binary Dummy Classifier model trained on CTU13 dataset\n",
    "with open('../Pickle Files/DummyBinaryCTU13.pkl', 'wb') as file:\n",
    "    pickle.dump(dummy_bin_ctu13, file)"
   ]
  },
  {
   "cell_type": "code",
   "execution_count": 23,
   "metadata": {},
   "outputs": [
    {
     "name": "stdout",
     "output_type": "stream",
     "text": [
      "Training time (CICIDS2017 Binary):  4.4926745891571045\n"
     ]
    }
   ],
   "source": [
    "# Train test splits for both datasets \n",
    "train_ctu13, test_ctu13 = train_test_split(CTU13_df, test_size=0.4, stratify=CTU13_df['GT'])\n",
    "train_cicids, test_cicids = train_test_split(CICIDS2017_df, test_size=0.4, stratify=CICIDS2017_df['GT'])\n",
    "\n",
    "# Train a binary Dummy Classifier model on CICIDS2017 dataset\n",
    "start = time.time()\n",
    "dummy_bin_cicids = DummyClassifier(strategy='stratified')\n",
    "dummy_bin_cicids.fit(train_cicids[features], train_cicids['GT'])\n",
    "end = time.time() - start\n",
    "print(\"Training time (CICIDS2017 Binary): \", end)\n",
    "\n",
    "# Save the binary Dummy Classifier model trained on CICIDS2017 dataset\n",
    "with open('../Pickle Files/DummyBinaryCICIDS2017.pkl', 'wb') as file:\n",
    "    pickle.dump(dummy_bin_cicids, file)"
   ]
  },
  {
   "cell_type": "code",
   "execution_count": 24,
   "metadata": {},
   "outputs": [
    {
     "name": "stdout",
     "output_type": "stream",
     "text": [
      "Training time (CICIDS2017 Multiclass):  1.6379647254943848\n"
     ]
    }
   ],
   "source": [
    "# Train test splits for both datasets\n",
    "train_ctu13, test_ctu13 = train_test_split(CTU13_df, test_size=0.4, stratify=CTU13_df['GT'])\n",
    "train_cicids, test_cicids = train_test_split(CICIDS2017_df, test_size=0.4, stratify=CICIDS2017_df['GT'])\n",
    "\n",
    "# Train a multiclass Dummy Classifier model on CICIDS2017 dataset\n",
    "start = time.time()\n",
    "dummy_multi_cicids = DummyClassifier(strategy='stratified')\n",
    "dummy_multi_cicids.fit(train_cicids[features], train_cicids[' Label'])\n",
    "end = time.time() - start\n",
    "print(\"Training time (CICIDS2017 Multiclass): \", end)\n",
    "\n",
    "# Save the multiclass Dummy Classifier model trained on CICIDS2017 dataset\n",
    "with open('../Pickle Files/DummyMulticlassCICIDS2017.pkl', 'wb') as file:\n",
    "    pickle.dump(dummy_multi_cicids, file)"
   ]
  },
  {
   "cell_type": "code",
   "execution_count": 25,
   "metadata": {},
   "outputs": [
    {
     "name": "stdout",
     "output_type": "stream",
     "text": [
      "Acc (CTU13 Binary Dummy): 0.513244\n",
      "F1-score (CTU13 Binary Dummy): 0.422144\n"
     ]
    },
    {
     "data": {
      "text/html": [
       "<div>\n",
       "<style scoped>\n",
       "    .dataframe tbody tr th:only-of-type {\n",
       "        vertical-align: middle;\n",
       "    }\n",
       "\n",
       "    .dataframe tbody tr th {\n",
       "        vertical-align: top;\n",
       "    }\n",
       "\n",
       "    .dataframe thead th {\n",
       "        text-align: right;\n",
       "    }\n",
       "</style>\n",
       "<table border=\"1\" class=\"dataframe\">\n",
       "  <thead>\n",
       "    <tr style=\"text-align: right;\">\n",
       "      <th>Pred</th>\n",
       "      <th>Benign</th>\n",
       "      <th>Malicious</th>\n",
       "    </tr>\n",
       "    <tr>\n",
       "      <th>True</th>\n",
       "      <th></th>\n",
       "      <th></th>\n",
       "    </tr>\n",
       "  </thead>\n",
       "  <tbody>\n",
       "    <tr>\n",
       "      <th>Benign</th>\n",
       "      <td>12373</td>\n",
       "      <td>8953</td>\n",
       "    </tr>\n",
       "    <tr>\n",
       "      <th>Malicious</th>\n",
       "      <td>9001</td>\n",
       "      <td>6558</td>\n",
       "    </tr>\n",
       "  </tbody>\n",
       "</table>\n",
       "</div>"
      ],
      "text/plain": [
       "Pred       Benign  Malicious\n",
       "True                        \n",
       "Benign      12373       8953\n",
       "Malicious    9001       6558"
      ]
     },
     "execution_count": 25,
     "metadata": {},
     "output_type": "execute_result"
    }
   ],
   "source": [
    "# Train test splits for both datasets\n",
    "train_ctu13, test_ctu13 = train_test_split(CTU13_df, test_size=0.4, stratify=CTU13_df['GT']) \n",
    "train_cicids, test_cicids = train_test_split(CICIDS2017_df, test_size=0.4, stratify=CICIDS2017_df['GT'])\n",
    "\n",
    "# Load the binary Dummy Classifier model trained on CTU13 dataset\n",
    "with open('../Pickle Files/DummyBinaryCTU13.pkl', 'rb') as file:\n",
    "    dummy_bin_ctu13 = pickle.load(file)\n",
    "    \n",
    "# Test on CTU13 dataset\n",
    "predictions_bin_ctu13 = dummy_bin_ctu13.predict(test_ctu13[features])\n",
    "print(\"Acc (CTU13 Binary Dummy): {:3f}\".format(accuracy_score(test_ctu13['GT'], predictions_bin_ctu13)))\n",
    "print(\"F1-score (CTU13 Binary Dummy): {:3f}\".format(f1_score(test_ctu13['GT'], predictions_bin_ctu13, pos_label='Malicious')))\n",
    "pd.crosstab(test_ctu13['GT'], predictions_bin_ctu13, rownames=['True'], colnames=['Pred'])"
   ]
  },
  {
   "cell_type": "code",
   "execution_count": 26,
   "metadata": {},
   "outputs": [
    {
     "name": "stdout",
     "output_type": "stream",
     "text": [
      "Acc (CICIDS2017 Binary Dummy): 0.684375\n",
      "F1-score (CICIDS2017 Binary Dummy): 0.197910\n"
     ]
    },
    {
     "data": {
      "text/html": [
       "<div>\n",
       "<style scoped>\n",
       "    .dataframe tbody tr th:only-of-type {\n",
       "        vertical-align: middle;\n",
       "    }\n",
       "\n",
       "    .dataframe tbody tr th {\n",
       "        vertical-align: top;\n",
       "    }\n",
       "\n",
       "    .dataframe thead th {\n",
       "        text-align: right;\n",
       "    }\n",
       "</style>\n",
       "<table border=\"1\" class=\"dataframe\">\n",
       "  <thead>\n",
       "    <tr style=\"text-align: right;\">\n",
       "      <th>Pred</th>\n",
       "      <th>Benign</th>\n",
       "      <th>Malicious</th>\n",
       "    </tr>\n",
       "    <tr>\n",
       "      <th>True</th>\n",
       "      <th></th>\n",
       "      <th></th>\n",
       "    </tr>\n",
       "  </thead>\n",
       "  <tbody>\n",
       "    <tr>\n",
       "      <th>Benign</th>\n",
       "      <td>730086</td>\n",
       "      <td>178442</td>\n",
       "    </tr>\n",
       "    <tr>\n",
       "      <th>Malicious</th>\n",
       "      <td>178577</td>\n",
       "      <td>44046</td>\n",
       "    </tr>\n",
       "  </tbody>\n",
       "</table>\n",
       "</div>"
      ],
      "text/plain": [
       "Pred       Benign  Malicious\n",
       "True                        \n",
       "Benign     730086     178442\n",
       "Malicious  178577      44046"
      ]
     },
     "execution_count": 26,
     "metadata": {},
     "output_type": "execute_result"
    }
   ],
   "source": [
    "# Train test splits for both datasets\n",
    "train_ctu13, test_ctu13 = train_test_split(CTU13_df, test_size=0.4, stratify=CTU13_df['GT'])\n",
    "train_cicids, test_cicids = train_test_split(CICIDS2017_df, test_size=0.4, stratify=CICIDS2017_df['GT'])\n",
    "\n",
    "# Load the binary Dummy Classifier model trained on CICIDS2017 dataset\n",
    "with open('../Pickle Files/DummyBinaryCICIDS2017.pkl', 'rb') as file:\n",
    "    dummy_bin_cicids = pickle.load(file)\n",
    "\n",
    "# Test on CICIDS2017 dataset\n",
    "predictions_bin_cicids = dummy_bin_cicids.predict(test_cicids[features]) \n",
    "print(\"Acc (CICIDS2017 Binary Dummy): {:3f}\".format(accuracy_score(test_cicids['GT'], predictions_bin_cicids)))\n",
    "print(\"F1-score (CICIDS2017 Binary Dummy): {:3f}\".format(f1_score(test_cicids['GT'], predictions_bin_cicids, pos_label='Malicious')))\n",
    "pd.crosstab(test_cicids['GT'], predictions_bin_cicids, rownames=['True'], colnames=['Pred'])"
   ]
  },
  {
   "cell_type": "code",
   "execution_count": 27,
   "metadata": {},
   "outputs": [
    {
     "name": "stdout",
     "output_type": "stream",
     "text": [
      "Acc (CTU13 to CICIDS2017 Dummy): 0.547701\n",
      "F1-score (CTU13 to CICIDS2017 Dummy): 0.268377\n"
     ]
    },
    {
     "data": {
      "text/html": [
       "<div>\n",
       "<style scoped>\n",
       "    .dataframe tbody tr th:only-of-type {\n",
       "        vertical-align: middle;\n",
       "    }\n",
       "\n",
       "    .dataframe tbody tr th {\n",
       "        vertical-align: top;\n",
       "    }\n",
       "\n",
       "    .dataframe thead th {\n",
       "        text-align: right;\n",
       "    }\n",
       "</style>\n",
       "<table border=\"1\" class=\"dataframe\">\n",
       "  <thead>\n",
       "    <tr style=\"text-align: right;\">\n",
       "      <th>Pred</th>\n",
       "      <th>Benign</th>\n",
       "      <th>Malicious</th>\n",
       "    </tr>\n",
       "    <tr>\n",
       "      <th>True</th>\n",
       "      <th></th>\n",
       "      <th></th>\n",
       "    </tr>\n",
       "  </thead>\n",
       "  <tbody>\n",
       "    <tr>\n",
       "      <th>Benign</th>\n",
       "      <td>525695</td>\n",
       "      <td>382833</td>\n",
       "    </tr>\n",
       "    <tr>\n",
       "      <th>Malicious</th>\n",
       "      <td>128786</td>\n",
       "      <td>93837</td>\n",
       "    </tr>\n",
       "  </tbody>\n",
       "</table>\n",
       "</div>"
      ],
      "text/plain": [
       "Pred       Benign  Malicious\n",
       "True                        \n",
       "Benign     525695     382833\n",
       "Malicious  128786      93837"
      ]
     },
     "execution_count": 27,
     "metadata": {},
     "output_type": "execute_result"
    }
   ],
   "source": [
    "# Train test splits for both datasets\n",
    "train_ctu13, test_ctu13 = train_test_split(CTU13_df, test_size=0.4, stratify=CTU13_df['GT'])\n",
    "train_cicids, test_cicids = train_test_split(CICIDS2017_df, test_size=0.4, stratify=CICIDS2017_df['GT'])\n",
    "\n",
    "# Load the binary Dummy Classifier model trained on CTU13 dataset\n",
    "with open('../Pickle Files/DummyBinaryCTU13.pkl', 'rb') as file:\n",
    "    dummy_bin_ctu13 = pickle.load(file)\n",
    "\n",
    "# Test on CICIDS2017 dataset\n",
    "predictions_bin_cicids = dummy_bin_ctu13.predict(test_cicids[features])\n",
    "print(\"Acc (CTU13 to CICIDS2017 Dummy): {:3f}\".format(accuracy_score(test_cicids['GT'], predictions_bin_cicids))) \n",
    "print(\"F1-score (CTU13 to CICIDS2017 Dummy): {:3f}\".format(f1_score(test_cicids['GT'], predictions_bin_cicids, pos_label='Malicious')))\n",
    "pd.crosstab(test_cicids['GT'], predictions_bin_cicids, rownames=['True'], colnames=['Pred'])"
   ]
  },
  {
   "cell_type": "code",
   "execution_count": 28,
   "metadata": {},
   "outputs": [
    {
     "name": "stdout",
     "output_type": "stream",
     "text": [
      "Acc (CICIDS2017 Binary to CTU13 Dummy): 0.547946\n",
      "F1-score (CICIDS2017 Binary to CTU13 Dummy): 0.270923\n"
     ]
    },
    {
     "data": {
      "text/html": [
       "<div>\n",
       "<style scoped>\n",
       "    .dataframe tbody tr th:only-of-type {\n",
       "        vertical-align: middle;\n",
       "    }\n",
       "\n",
       "    .dataframe tbody tr th {\n",
       "        vertical-align: top;\n",
       "    }\n",
       "\n",
       "    .dataframe thead th {\n",
       "        text-align: right;\n",
       "    }\n",
       "</style>\n",
       "<table border=\"1\" class=\"dataframe\">\n",
       "  <thead>\n",
       "    <tr style=\"text-align: right;\">\n",
       "      <th>Pred</th>\n",
       "      <th>Benign</th>\n",
       "      <th>Malicious</th>\n",
       "    </tr>\n",
       "    <tr>\n",
       "      <th>True</th>\n",
       "      <th></th>\n",
       "      <th></th>\n",
       "    </tr>\n",
       "  </thead>\n",
       "  <tbody>\n",
       "    <tr>\n",
       "      <th>Benign</th>\n",
       "      <td>17113</td>\n",
       "      <td>4213</td>\n",
       "    </tr>\n",
       "    <tr>\n",
       "      <th>Malicious</th>\n",
       "      <td>12461</td>\n",
       "      <td>3098</td>\n",
       "    </tr>\n",
       "  </tbody>\n",
       "</table>\n",
       "</div>"
      ],
      "text/plain": [
       "Pred       Benign  Malicious\n",
       "True                        \n",
       "Benign      17113       4213\n",
       "Malicious   12461       3098"
      ]
     },
     "execution_count": 28,
     "metadata": {},
     "output_type": "execute_result"
    }
   ],
   "source": [
    "# Train test splits for both datasets\n",
    "train_ctu13, test_ctu13 = train_test_split(CTU13_df, test_size=0.4, stratify=CTU13_df['GT'])\n",
    "train_cicids, test_cicids = train_test_split(CICIDS2017_df, test_size=0.4, stratify=CICIDS2017_df['GT'])\n",
    "\n",
    "# Load the binary Dummy Classifier model trained on CICIDS2017 dataset \n",
    "with open('../Pickle Files/DummyBinaryCICIDS2017.pkl', 'rb') as file:\n",
    "    dummy_bin_cicids = pickle.load(file)\n",
    "\n",
    "# Test on CTU13 dataset\n",
    "predictions_bin = dummy_bin_cicids.predict(test_ctu13[features])\n",
    "print(\"Acc (CICIDS2017 Binary to CTU13 Dummy): {:3f}\".format(accuracy_score(test_ctu13['GT'], predictions_bin)))\n",
    "print(\"F1-score (CICIDS2017 Binary to CTU13 Dummy): {:3f}\".format(f1_score(test_ctu13['GT'], predictions_bin, pos_label='Malicious')))\n",
    "pd.crosstab(test_ctu13['GT'], predictions_bin, rownames=['True'], colnames=['Pred'])"
   ]
  },
  {
   "cell_type": "code",
   "execution_count": 29,
   "metadata": {},
   "outputs": [
    {
     "name": "stdout",
     "output_type": "stream",
     "text": [
      "Acc (CICIDS2017 Multi-class to CTU13 Dummy): 0.463332\n",
      "F1-score (CICIDS2017 Multi-class to CTU13 Dummy): 0.051769\n"
     ]
    },
    {
     "data": {
      "text/html": [
       "<div>\n",
       "<style scoped>\n",
       "    .dataframe tbody tr th:only-of-type {\n",
       "        vertical-align: middle;\n",
       "    }\n",
       "\n",
       "    .dataframe tbody tr th {\n",
       "        vertical-align: top;\n",
       "    }\n",
       "\n",
       "    .dataframe thead th {\n",
       "        text-align: right;\n",
       "    }\n",
       "</style>\n",
       "<table border=\"1\" class=\"dataframe\">\n",
       "  <thead>\n",
       "    <tr style=\"text-align: right;\">\n",
       "      <th>Pred</th>\n",
       "      <th>BENIGN</th>\n",
       "      <th>Bot</th>\n",
       "      <th>DDoS</th>\n",
       "      <th>DoS GoldenEye</th>\n",
       "      <th>DoS Hulk</th>\n",
       "      <th>DoS Slowhttptest</th>\n",
       "      <th>DoS slowloris</th>\n",
       "      <th>FTP-Patator</th>\n",
       "      <th>Infiltration</th>\n",
       "      <th>PortScan</th>\n",
       "      <th>SSH-Patator</th>\n",
       "      <th>Web Attack � Brute Force</th>\n",
       "      <th>Web Attack � XSS</th>\n",
       "    </tr>\n",
       "    <tr>\n",
       "      <th>True</th>\n",
       "      <th></th>\n",
       "      <th></th>\n",
       "      <th></th>\n",
       "      <th></th>\n",
       "      <th></th>\n",
       "      <th></th>\n",
       "      <th></th>\n",
       "      <th></th>\n",
       "      <th></th>\n",
       "      <th></th>\n",
       "      <th></th>\n",
       "      <th></th>\n",
       "      <th></th>\n",
       "    </tr>\n",
       "  </thead>\n",
       "  <tbody>\n",
       "    <tr>\n",
       "      <th>BENIGN</th>\n",
       "      <td>17079</td>\n",
       "      <td>20</td>\n",
       "      <td>1016</td>\n",
       "      <td>78</td>\n",
       "      <td>1785</td>\n",
       "      <td>40</td>\n",
       "      <td>53</td>\n",
       "      <td>64</td>\n",
       "      <td>1</td>\n",
       "      <td>1130</td>\n",
       "      <td>44</td>\n",
       "      <td>12</td>\n",
       "      <td>4</td>\n",
       "    </tr>\n",
       "    <tr>\n",
       "      <th>Bot</th>\n",
       "      <td>12457</td>\n",
       "      <td>11</td>\n",
       "      <td>712</td>\n",
       "      <td>64</td>\n",
       "      <td>1246</td>\n",
       "      <td>26</td>\n",
       "      <td>38</td>\n",
       "      <td>45</td>\n",
       "      <td>1</td>\n",
       "      <td>906</td>\n",
       "      <td>45</td>\n",
       "      <td>6</td>\n",
       "      <td>2</td>\n",
       "    </tr>\n",
       "  </tbody>\n",
       "</table>\n",
       "</div>"
      ],
      "text/plain": [
       "Pred    BENIGN  Bot  DDoS  DoS GoldenEye  DoS Hulk  DoS Slowhttptest  \\\n",
       "True                                                                   \n",
       "BENIGN   17079   20  1016             78      1785                40   \n",
       "Bot      12457   11   712             64      1246                26   \n",
       "\n",
       "Pred    DoS slowloris  FTP-Patator  Infiltration  PortScan  SSH-Patator  \\\n",
       "True                                                                      \n",
       "BENIGN             53           64             1      1130           44   \n",
       "Bot                38           45             1       906           45   \n",
       "\n",
       "Pred    Web Attack � Brute Force  Web Attack � XSS  \n",
       "True                                                \n",
       "BENIGN                        12                 4  \n",
       "Bot                            6                 2  "
      ]
     },
     "execution_count": 29,
     "metadata": {},
     "output_type": "execute_result"
    }
   ],
   "source": [
    "# Train test splits for both datasets\n",
    "train_ctu13, test_ctu13 = train_test_split(CTU13_df, test_size=0.4, stratify=CTU13_df['GT'])\n",
    "train_cicids, test_cicids = train_test_split(CICIDS2017_df, test_size=0.4, stratify=CICIDS2017_df['GT'])\n",
    "\n",
    "# Load the multiclass Dummy Classifier model trained on CICIDS2017 dataset\n",
    "with open('../Pickle Files/DummyMulticlassCICIDS2017.pkl', 'rb') as file:\n",
    "    dummy_multi_cicids = pickle.load(file)\n",
    "\n",
    "# Test on CTU13 dataset\n",
    "predictions_multi = dummy_multi_cicids.predict(test_ctu13[features])\n",
    "print(\"Acc (CICIDS2017 Multi-class to CTU13 Dummy): {:3f}\".format(accuracy_score(test_ctu13[' Label'], predictions_multi)))\n",
    "print(\"F1-score (CICIDS2017 Multi-class to CTU13 Dummy): {:3f}\".format(f1_score(test_ctu13[' Label'], predictions_multi, average='macro')))\n",
    "pd.crosstab(test_ctu13[' Label'], predictions_multi, rownames=['True'], colnames=['Pred'])"
   ]
  }
 ],
 "metadata": {
  "kernelspec": {
   "display_name": "Python 3",
   "language": "python",
   "name": "python3"
  },
  "language_info": {
   "codemirror_mode": {
    "name": "ipython",
    "version": 3
   },
   "file_extension": ".py",
   "mimetype": "text/x-python",
   "name": "python",
   "nbconvert_exporter": "python",
   "pygments_lexer": "ipython3",
   "version": "3.12.2"
  }
 },
 "nbformat": 4,
 "nbformat_minor": 2
}
