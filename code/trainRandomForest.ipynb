{
 "cells": [
  {
   "cell_type": "code",
   "execution_count": 25,
   "metadata": {},
   "outputs": [],
   "source": [
    "import pandas as pd\n",
    "import numpy as np\n",
    "import pickle\n",
    "import os, time\n",
    "from sklearn.ensemble import RandomForestClassifier\n",
    "from sklearn.metrics import accuracy_score, f1_score"
   ]
  },
  {
   "cell_type": "code",
   "execution_count": 26,
   "metadata": {},
   "outputs": [
    {
     "name": "stdout",
     "output_type": "stream",
     "text": [
      "Reading:  Friday-WorkingHours-Afternoon-PortScan.pcap_ISCX_Relabeled.csv\n",
      "Reading:  Friday-WorkingHours-Morning.pcap_ISCX_Relabeled.csv\n",
      "Reading:  Wednesday-workingHours.pcap_ISCX_Relabeled.csv\n",
      "Reading:  Thursday-WorkingHours-Morning-WebAttacks.pcap_ISCX_Relabeled.csv\n",
      "Reading:  Monday-WorkingHours.pcap_ISCX_Relabeled.csv\n",
      "Reading:  Friday-WorkingHours-Afternoon-DDos.pcap_ISCX_Relabeled.csv\n",
      "Reading:  Tuesday-WorkingHours.pcap_ISCX_Relabeled.csv\n",
      "Reading:  Thursday-WorkingHours-Afternoon-Infilteration.pcap_ISCX_Relabeled.csv\n",
      "Reading:  CTU13_Normal_Traffic_Relabeled.csv\n",
      "Reading:  CTU13_Attack_Traffic_Relabeled.csv\n"
     ]
    }
   ],
   "source": [
    "# Reading CSV files, and merging all of them into a single DataFrame\n",
    "CISIDS2017_folder = \"/home/grassfed37/6CCS3PRJ/dummy-ML_NIDS/CICIDS2017ML\"\n",
    "CTU13_folder = \"/home/grassfed37/6CCS3PRJ/dummy-ML_NIDS/CTU13ML\"\n",
    "\n",
    "CICIDS2017_df_list = []\n",
    "CTU13_df_list = []\n",
    "\n",
    "# Reading CICIDS2017 CSV files into a single DataFrame\n",
    "for f in os.listdir(CISIDS2017_folder):\n",
    "    file_path = os.path.join(CISIDS2017_folder, f)\n",
    "    if os.path.isfile(file_path):\n",
    "        print(\"Reading: \", f)\n",
    "        CICIDS2017_df_list.append(pd.read_csv(file_path))\n",
    "\n",
    "CICIDS2017_df = pd.concat(CICIDS2017_df_list, ignore_index=True)\n",
    "\n",
    "# Reading CTU13 CSV files into a single DataFrame\n",
    "for f in os.listdir(CTU13_folder):\n",
    "    file_path = os.path.join(CTU13_folder, f)\n",
    "    if os.path.isfile(file_path):\n",
    "        print(\"Reading: \", f)\n",
    "        CTU13_df_list.append(pd.read_csv(file_path))\n",
    "\n",
    "CTU13_df = pd.concat(CTU13_df_list, ignore_index=True)"
   ]
  },
  {
   "cell_type": "code",
   "execution_count": 27,
   "metadata": {},
   "outputs": [
    {
     "name": "stdout",
     "output_type": "stream",
     "text": [
      "Columns with problematic values:  [' Flow Packets/s']\n",
      "Columns with problematic values:  []\n"
     ]
    }
   ],
   "source": [
    "# QUICK PREPROCESSING. \n",
    "# Some classifiers do not like \"infinite\" (inf) or \"null\" (NaN) values.\n",
    "CICIDS2017_df.replace([np.inf, -np.inf], np.nan, inplace=True)\n",
    "print(\"Columns with problematic values: \", list(CICIDS2017_df.columns[CICIDS2017_df.isna().any()]))\n",
    "CICIDS2017_df.dropna(inplace=True)\n",
    "\n",
    "CTU13_df.replace([np.inf, -np.inf], np.nan, inplace=True)\n",
    "print(\"Columns with problematic values: \", list(CTU13_df.columns[CTU13_df.isna().any()]))\n",
    "CTU13_df.dropna(inplace=True)"
   ]
  },
  {
   "cell_type": "code",
   "execution_count": 28,
   "metadata": {},
   "outputs": [],
   "source": [
    "# Create a new column that unifies all malicious classes into a single class for binary classification\n",
    "CICIDS2017_df['GT'] = np.where(CICIDS2017_df[' Label']=='BENIGN', 'Benign', 'Malicious')\n",
    "CTU13_df['GT'] = np.where(CTU13_df[' Label']=='Benign', 'Benign', 'Malicious')"
   ]
  },
  {
   "cell_type": "code",
   "execution_count": 29,
   "metadata": {},
   "outputs": [],
   "source": [
    "features = pd.Index([\n",
    "    ' Flow Duration',\n",
    "    ' Total Fwd Packets',\n",
    "    ' Total Backward Packets',\n",
    "    ' Total Length of Bwd Packets',\n",
    "    ' Fwd Packet Length Max',\n",
    "    ' Fwd Packet Length Min',\n",
    "    ' Fwd Packet Length Mean',\n",
    "    ' Fwd Packet Length Std',\n",
    "    ' Bwd Packet Length Min',\n",
    "    ' Bwd Packet Length Mean',\n",
    "    ' Bwd Packet Length Std',\n",
    "    ' Flow Packets/s',\n",
    "    ' Flow IAT Mean',\n",
    "    ' Flow IAT Std',\n",
    "    ' Flow IAT Max',\n",
    "    ' Flow IAT Min',\n",
    "    ' Fwd IAT Mean',\n",
    "    ' Fwd IAT Std',\n",
    "    ' Fwd IAT Max',\n",
    "    ' Fwd IAT Min',\n",
    "    ' Bwd IAT Mean',\n",
    "    ' Bwd IAT Std',\n",
    "    ' Bwd IAT Max',\n",
    "    ' Bwd IAT Min',\n",
    "    ' Bwd PSH Flags',\n",
    "    ' Fwd Header Length',\n",
    "    ' Bwd Header Length',\n",
    "    ' Bwd Packets/s',\n",
    "    ' Min Packet Length',\n",
    "    ' Max Packet Length',\n",
    "    ' Packet Length Mean',\n",
    "    ' Packet Length Std',\n",
    "    ' Packet Length Variance',\n",
    "    ' SYN Flag Count',\n",
    "    ' RST Flag Count',\n",
    "    ' ACK Flag Count',\n",
    "    ' Down/Up Ratio',\n",
    "    ' Average Packet Size',\n",
    "    ' Avg Fwd Segment Size',\n",
    "    ' Avg Bwd Segment Size',\n",
    "    ' Init_Win_bytes_backward',\n",
    "    ' act_data_pkt_fwd',\n",
    "    ' Active Std',\n",
    "    ' Active Max',\n",
    "    ' Active Min',\n",
    "    ' Idle Std',\n",
    "    ' Idle Max',\n",
    "    ' Idle Min'\n",
    "])\n"
   ]
  },
  {
   "cell_type": "code",
   "execution_count": 30,
   "metadata": {},
   "outputs": [],
   "source": [
    "# set train variable to the full CTU13 dataset\n",
    "train = CICIDS2017_df\n",
    "\n",
    "# set test variable to the full CICIDS2017 dataset\n",
    "test = CTU13_df"
   ]
  },
  {
   "cell_type": "code",
   "execution_count": 31,
   "metadata": {},
   "outputs": [],
   "source": [
    "# Train and test a (binary) RandomForestClassifier, printing some basic performance scores, training time, and confusion matrix\n",
    "start = time.time()\n",
    "rfClf_bin = RandomForestClassifier(n_jobs = -2)\n",
    "rfClf_bin.fit(train[features], train['GT'])\n",
    "end = time.time() - start\n",
    "print(\"Training time: \", end)\n",
    "\n",
    "# Save the binary RandomForestClassifier model\n",
    "with open('rfClf_bin.pkl', 'wb') as file:\n",
    "    pickle.dump(rfClf_bin, file)\n",
    "\n",
    "predictions_bin = rfClf_bin.predict(test[features])\n",
    "print(\"Acc: {:3f}\".format(accuracy_score(test['GT'], predictions_bin)))\n",
    "print(\"F1-score: {:3f}\".format(f1_score(test['GT'], predictions_bin, pos_label = 'Malicious')))\n",
    "pd.crosstab(test['GT'], predictions_bin, rownames=['True'], colnames=['Pred'])"
   ]
  },
  {
   "cell_type": "code",
   "execution_count": null,
   "metadata": {},
   "outputs": [
    {
     "name": "stdout",
     "output_type": "stream",
     "text": [
      "Training time:  0.7423627376556396\n",
      "Acc: 0.996877\n",
      "F1-score: 0.996796\n"
     ]
    },
    {
     "data": {
      "text/html": [
       "<div>\n",
       "<style scoped>\n",
       "    .dataframe tbody tr th:only-of-type {\n",
       "        vertical-align: middle;\n",
       "    }\n",
       "\n",
       "    .dataframe tbody tr th {\n",
       "        vertical-align: top;\n",
       "    }\n",
       "\n",
       "    .dataframe thead th {\n",
       "        text-align: right;\n",
       "    }\n",
       "</style>\n",
       "<table border=\"1\" class=\"dataframe\">\n",
       "  <thead>\n",
       "    <tr style=\"text-align: right;\">\n",
       "      <th>Pred</th>\n",
       "      <th>BENIGN</th>\n",
       "      <th>Bot</th>\n",
       "    </tr>\n",
       "    <tr>\n",
       "      <th>True</th>\n",
       "      <th></th>\n",
       "      <th></th>\n",
       "    </tr>\n",
       "  </thead>\n",
       "  <tbody>\n",
       "    <tr>\n",
       "      <th>BENIGN</th>\n",
       "      <td>26635</td>\n",
       "      <td>89</td>\n",
       "    </tr>\n",
       "    <tr>\n",
       "      <th>Bot</th>\n",
       "      <td>55</td>\n",
       "      <td>19327</td>\n",
       "    </tr>\n",
       "  </tbody>\n",
       "</table>\n",
       "</div>"
      ],
      "text/plain": [
       "Pred    BENIGN    Bot\n",
       "True                 \n",
       "BENIGN   26635     89\n",
       "Bot         55  19327"
      ]
     },
     "execution_count": 24,
     "metadata": {},
     "output_type": "execute_result"
    }
   ],
   "source": [
    "# Train and test a (multiclass) RandomForestClassifier, printing some basic performance scores, training time, and confusion matrix\n",
    "start = time.time()\n",
    "rfClf_multi = RandomForestClassifier(n_jobs = -2)\n",
    "rfClf_multi.fit(train[features], train[' Label'])\n",
    "end = time.time() - start\n",
    "print(\"Training time: \", end)\n",
    "\n",
    "# Save the multiclass RandomForestClassifier model\n",
    "with open('rfClf_multi.pkl', 'wb') as file:\n",
    "    pickle.dump(rfClf_multi, file)\n",
    "    \n",
    "predictions_multi = rfClf_multi.predict(test[features])\n",
    "print(\"Acc: {:3f}\".format(accuracy_score(test[' Label'], predictions_multi)))\n",
    "print(\"F1-score: {:3f}\".format(f1_score(test[' Label'], predictions_multi, average='macro')))\n",
    "pd.crosstab(test[' Label'], predictions_multi, rownames=['True'], colnames=['Pred'])\n"
   ]
  }
 ],
 "metadata": {
  "kernelspec": {
   "display_name": ".venv",
   "language": "python",
   "name": "python3"
  },
  "language_info": {
   "codemirror_mode": {
    "name": "ipython",
    "version": 3
   },
   "file_extension": ".py",
   "mimetype": "text/x-python",
   "name": "python",
   "nbconvert_exporter": "python",
   "pygments_lexer": "ipython3",
   "version": "3.12.2"
  }
 },
 "nbformat": 4,
 "nbformat_minor": 2
}
